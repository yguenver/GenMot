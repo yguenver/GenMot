{
 "cells": [
  {
   "cell_type": "code",
   "execution_count": 8,
   "metadata": {},
   "outputs": [],
   "source": [
    "nbAppear = dict()\n",
    "\n",
    "def lireDict(dictionnaire,clef):\n",
    "    if (clef in dictionnaire.keys()):\n",
    "        return dictionnaire[clef]\n",
    "    return None\n",
    "\n",
    "\n",
    "def ajout(c1,c2):\n",
    "    premiereLettre = lireDict(nbAppear,c1)\n",
    "    if premiereLettre != None :\n",
    "        secondeLettre = lireDict(premiereLettre,c2)\n",
    "        if secondeLettre != None :\n",
    "            nbAppear[c1][c2] += 1\n",
    "        else :\n",
    "            nbAppear[c1][c2] = 1\n",
    "    else :\n",
    "        nbAppear[c1] = {c2 : 1}\n",
    "        \n",
    "def lit(mot):\n",
    "    for i in range(mot-1):\n",
    "        ajout(mot[i],mot[i+1])\n",
    "\n",
    "def estLettre(c):\n",
    "    return True if c in [chr(c) for c in range(65,91)]+[chr(c) for c in range(97,123)] else False\n",
    "\n",
    "def lit2(texte,i):\n",
    "    mot = \"\"\n",
    "    while estLettre(texte[i]):\n",
    "        mot+=texte[i]\n",
    "        i+=1\n",
    "    return (mot,i+1)\n",
    "\n",
    "def mat():\n",
    "    fichier = open(\"./ProjetPython/notredame.txt\", \"r\")\n",
    "    text = fichier.read().split('\\n')\n",
    "    i = 0\n",
    "    for ligne in text:\n",
    "        motlit2(ligne,i)"
   ]
  },
  {
   "cell_type": "code",
   "execution_count": null,
   "metadata": {},
   "outputs": [],
   "source": []
  }
 ],
 "metadata": {
  "kernelspec": {
   "display_name": "Python 3",
   "language": "python",
   "name": "python3"
  },
  "language_info": {
   "codemirror_mode": {
    "name": "ipython",
    "version": 3
   },
   "file_extension": ".py",
   "mimetype": "text/x-python",
   "name": "python",
   "nbconvert_exporter": "python",
   "pygments_lexer": "ipython3",
   "version": "3.6.8"
  }
 },
 "nbformat": 4,
 "nbformat_minor": 2
}
