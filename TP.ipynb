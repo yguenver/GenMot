{
 "cells": [
  {
   "cell_type": "code",
   "execution_count": 1,
   "metadata": {},
   "outputs": [],
   "source": [
    "import numpy as np\n",
    "import random as random\n",
    "import matplotlib.pyplot as plt\n",
    "import matplotlib.cm as cm\n",
    "\n",
    "\n",
    "class Generateur(object):\n",
    "\n",
    "    def __init__(self):\n",
    "        self.nbAppear = dict()\n",
    "        \n",
    "    def ajout(self, caractere1,caractere2):\n",
    "        if caractere1 in self.nbAppear :\n",
    "            if caractere2 in self.nbAppear[caractere1] :\n",
    "                self.nbAppear[caractere1][caractere2] += 1\n",
    "            else :\n",
    "                self.nbAppear[caractere1][caractere2] = 1\n",
    "        else :\n",
    "            self.nbAppear[caractere1] = {caractere2 : 1}\n",
    "        \n",
    "    def lireMot(self, mot):\n",
    "        for i in range(len(mot)-1):\n",
    "            self.ajout(mot[i],mot[i+1])\n",
    "\n",
    "    def __estLettre(self, c):\n",
    "        return (\"a\" <= c and c <= \"z\") or (\"à\" <= c and c <= \"ü\")\n",
    "\n",
    "    def __trouveMot(self,texte,i):\n",
    "        mot = \" \"\n",
    "        while self.__estLettre(texte[i].lower()) and i < len(texte):\n",
    "            mot+=texte[i].lower()\n",
    "            i+=1\n",
    "        return mot+\" \", i+1\n",
    "\n",
    "    def lireTexte(self,fichier):\n",
    "        texte = open(\"./ProjetPython/\"+fichier, \"r\").read()\n",
    "        i = 0\n",
    "        while i < len(texte):\n",
    "            mot, i = self.__trouveMot(texte,i)\n",
    "            if mot != \"  \" :\n",
    "                self.lireMot(mot)\n",
    "    \n",
    "    def __trouveLettre(self,caractere):\n",
    "        somm = 0\n",
    "        for occurrence in self.nbAppear[caractere].values():\n",
    "            somm += occurrence\n",
    "        return random.randint(0,somm)\n",
    "        \n",
    "    def caractereSuivant(self, caractere):\n",
    "        alea = self.__trouveLettre(caractere)\n",
    "        i = 0\n",
    "        occurences = list(self.nbAppear[caractere].values())\n",
    "        while alea > occurences[i]:\n",
    "            alea-= occurences[i]\n",
    "            i+=1\n",
    "        return list(self.nbAppear[caractere].keys())[i]\n",
    "    \n",
    "    def genereMot(self, premiereLettre=' '):\n",
    "        mot = premiereLettre\n",
    "        while(mot[-1]!=' ' or len(mot)==1):\n",
    "            mot+=self.caractereSuivant(mot[-1])\n",
    "        return mot[1:] if mot[0]==' ' else mot\n",
    "\n",
    "    def genereMotFixe(self, taille, premiereLettre=' '):\n",
    "        mot = premiereLettre\n",
    "        i = 0\n",
    "        boucle = 0\n",
    "        while(i < (taille-1 if mot[0]!=' ' else taille) and boucle<100):\n",
    "            l = self.caractereSuivant(mot[-1])\n",
    "            boucle = 0\n",
    "            while(l==' ' and boucle<100):\n",
    "                l = self.caractereSuivant(mot[-1])\n",
    "                boucle+=1\n",
    "            mot+=l\n",
    "            i+=1\n",
    "        return mot[1:] if mot[0]==' ' else mot\n",
    "    \n",
    "    def afficheMatrice(self):\n",
    "        ToutesLettres = sorted([key for key in self.nbAppear.keys()])\n",
    "        prop = np.matrix([[0. for y in range(0,len(ToutesLettres))] for x in range(0,len(ToutesLettres))])\n",
    "        \n",
    "        i = 0\n",
    "        for letter1 in ToutesLettres:\n",
    "            y = 0\n",
    "            for letter2 in ToutesLettres:\n",
    "                if letter2 in self.nbAppear[letter1].keys():\n",
    "                    prop[i,y] = self.nbAppear[letter1][letter2]\n",
    "                y+=1\n",
    "            i+=1\n",
    "        \n",
    "        Somm = [x.sum() for x in prop]\n",
    "        for i in range(0,len(Somm)) :\n",
    "            for y in range(0,len(Somm)) :\n",
    "                prop[i,y] = (float(prop[i,y])*100.0)/float(Somm[i])\n",
    "        \n",
    "        \n",
    "        fig, ax = plt.subplots(figsize=(7,7))\n",
    "        im = ax.imshow(prop, cmap=cm.binary)\n",
    "\n",
    "        ax.set_xticks(np.arange(len(ToutesLettres)))\n",
    "        ax.set_yticks(np.arange(len(ToutesLettres)))\n",
    "\n",
    "        ax.set_xticklabels(ToutesLettres)\n",
    "        ax.set_yticklabels(ToutesLettres)\n",
    "\n",
    "        ax.set_title(\"Probability of letters\")\n",
    "        fig.tight_layout()\n",
    "        plt.show()\n",
    "    \n",
    "    \n",
    "g = Generateur()\n",
    "g.lireTexte(\"cyrano.txt\")\n"
   ]
  },
  {
   "cell_type": "code",
   "execution_count": 2,
   "metadata": {},
   "outputs": [
    {
     "name": "stdout",
     "output_type": "stream",
     "text": [
      "it \n",
      "jeurt \n",
      "luvenoue \n",
      "j \n",
      "je \n",
      "ouis \n",
      "s \n",
      "priarais \n",
      "nat \n",
      "s \n",
      "\n",
      "leput\n",
      "menau\n",
      "deran\n",
      "deren\n",
      "erour\n",
      "meueu\n",
      "técèv\n",
      "montr\n",
      "lesse\n",
      "paive\n"
     ]
    }
   ],
   "source": [
    "for i in range(0,10):\n",
    "    print(g.genereMot())\n",
    "print()\n",
    "for i in range(0,10):\n",
    "    print(g.genereMotFixe(5))"
   ]
  },
  {
   "cell_type": "code",
   "execution_count": 3,
   "metadata": {},
   "outputs": [
    {
     "data": {
      "image/png": "[encoded data removed]",
      "text/plain": [
       "<Figure size 504x504 with 1 Axes>"
      ]
     },
     "metadata": {
      "needs_background": "light"
     },
     "output_type": "display_data"
    }
   ],
   "source": [
    "g.afficheMatrice()"
   ]
  },
  {
   "cell_type": "code",
   "execution_count": null,
   "metadata": {},
   "outputs": [],
   "source": []
  }
 ],
 "metadata": {
  "kernelspec": {
   "display_name": "Python 3",
   "language": "python",
   "name": "python3"
  },
  "language_info": {
   "codemirror_mode": {
    "name": "ipython",
    "version": 3
   },
   "file_extension": ".py",
   "mimetype": "text/x-python",
   "name": "python",
   "nbconvert_exporter": "python",
   "pygments_lexer": "ipython3",
   "version": "3.7.3"
  }
 },
 "nbformat": 4,
 "nbformat_minor": 2
}
